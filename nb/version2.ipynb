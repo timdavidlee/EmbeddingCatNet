{
 "cells": [
  {
   "cell_type": "code",
   "execution_count": 1,
   "metadata": {
    "collapsed": true
   },
   "outputs": [],
   "source": [
    "import torch\n",
    "import torch.utils.data as data_utils\n",
    "import sys\n",
    "import pandas as pd\n",
    "import numpy as np\n",
    "sys.path.append('../')\n",
    "\n",
    "from utils import load_wids_xy_data, get_mappers\n",
    "from EmbeddingModelV2 import EmbeddingModel, train_model\n",
    "\n",
    "DATA_DIR = '/Users/timlee/data/wids/'\n"
   ]
  },
  {
   "cell_type": "code",
   "execution_count": 2,
   "metadata": {
    "scrolled": true
   },
   "outputs": [
    {
     "name": "stdout",
     "output_type": "stream",
     "text": [
      "loading training data ...\n",
      "loading test data ...\n",
      "complete ...\n",
      "formatting ...\n",
      "imputing missing values ...\n",
      "(18255, 1122) (18255,) (27285, 1122)\n"
     ]
    }
   ],
   "source": [
    "X, y, X_test = load_wids_xy_data(DATA_DIR, target='is_female')"
   ]
  },
  {
   "cell_type": "code",
   "execution_count": 8,
   "metadata": {},
   "outputs": [
    {
     "name": "stdout",
     "output_type": "stream",
     "text": [
      "converting to category ...\n",
      "0\n",
      "100\n",
      "200\n",
      "300\n",
      "400\n",
      "500\n",
      "600\n",
      "700\n",
      "800\n",
      "900\n",
      "1000\n",
      "1100\n",
      "calculating cardinality\n",
      "remapping columns to int\n",
      "complete\n"
     ]
    }
   ],
   "source": [
    "cat_cols = X.columns\n",
    "emb_cols = ['DG3', 'DG4']\n",
    "X_mapped, mappers, emb_szs, idx2col, col2idx = get_mappers(X, cat_cols, emb_cols)\n",
    "\n",
    "cat_onehot_cols = X_mapped.columns"
   ]
  },
  {
   "cell_type": "code",
   "execution_count": 12,
   "metadata": {},
   "outputs": [
    {
     "name": "stdout",
     "output_type": "stream",
     "text": [
      "number of emb feats: 2\n",
      "total embedding parameters 12\n"
     ]
    }
   ],
   "source": [
    "em = EmbeddingModel(emb_szs=emb_szs,\n",
    "                    cat_cols=cat_onehot_cols,\n",
    "                    idx2col=idx2col, \n",
    "                    col2idx=col2idx,\n",
    "                    layer_sizes=[500,100], \n",
    "                    output_dim=1)"
   ]
  },
  {
   "cell_type": "code",
   "execution_count": 13,
   "metadata": {},
   "outputs": [],
   "source": [
    "bz = 50\n",
    "X_tensor = torch.from_numpy(X_mapped.head(18200).as_matrix())\n",
    "y_tensor = torch.from_numpy(y[:18200]).view(-1,1)\n",
    "\n",
    "train = data_utils.TensorDataset(X_tensor, y_tensor)\n",
    "train_loader = data_utils.DataLoader(train, batch_size=bz, shuffle=True)\n",
    "loss_fn = torch.nn.BCELoss(size_average=False)\n",
    "params = {\n",
    "    'weight_decay': 0.01,\n",
    "    'n_epoches': 2,\n",
    "    'learning_rate': 0.01,\n",
    "    'ml_type': 'binary'\n",
    "}"
   ]
  },
  {
   "cell_type": "code",
   "execution_count": 14,
   "metadata": {
    "scrolled": false
   },
   "outputs": [
    {
     "name": "stdout",
     "output_type": "stream",
     "text": [
      "learning rate 0.010000\n",
      "[1/5] - 1200/18200 loss: 26.951455, acc: 0.744000\n",
      "[1/5] - 2450/18200 loss: 21.749182, acc: 0.798400\n",
      "[1/5] - 3700/18200 loss: 17.843097, acc: 0.839200\n",
      "[1/5] - 4950/18200 loss: 16.634552, acc: 0.856800\n",
      "[1/5] - 6200/18200 loss: 14.265708, acc: 0.872000\n",
      "[1/5] - 7450/18200 loss: 17.090805, acc: 0.854400\n",
      "[1/5] - 8700/18200 loss: 15.977530, acc: 0.864000\n",
      "[1/5] - 9950/18200 loss: 15.197267, acc: 0.868800\n",
      "[1/5] - 11200/18200 loss: 16.880825, acc: 0.858400\n",
      "[1/5] - 12450/18200 loss: 15.599335, acc: 0.867200\n",
      "[1/5] - 13700/18200 loss: 15.000434, acc: 0.884800\n",
      "[1/5] - 14950/18200 loss: 15.283147, acc: 0.868800\n",
      "[1/5] - 16200/18200 loss: 15.157902, acc: 0.873600\n",
      "[1/5] - 17450/18200 loss: 14.455345, acc: 0.886400\n",
      "[2/5] - 1200/18200 loss: 12.560787, acc: 0.893600\n",
      "[2/5] - 2450/18200 loss: 14.101243, acc: 0.883200\n",
      "[2/5] - 3700/18200 loss: 15.416921, acc: 0.870400\n",
      "[2/5] - 4950/18200 loss: 14.056465, acc: 0.888800\n",
      "[2/5] - 6200/18200 loss: 13.518464, acc: 0.885600\n",
      "[2/5] - 7450/18200 loss: 15.350188, acc: 0.873600\n",
      "[2/5] - 8700/18200 loss: 13.879453, acc: 0.886400\n",
      "[2/5] - 9950/18200 loss: 13.948913, acc: 0.876800\n",
      "[2/5] - 11200/18200 loss: 15.979725, acc: 0.866400\n",
      "[2/5] - 12450/18200 loss: 15.095108, acc: 0.872800\n",
      "[2/5] - 13700/18200 loss: 15.837177, acc: 0.867200\n",
      "[2/5] - 14950/18200 loss: 13.869072, acc: 0.885600\n",
      "[2/5] - 16200/18200 loss: 14.525137, acc: 0.872000\n",
      "[2/5] - 17450/18200 loss: 15.429575, acc: 0.876800\n",
      "[3/5] - 1200/18200 loss: 13.083634, acc: 0.898400\n",
      "[3/5] - 2450/18200 loss: 13.349818, acc: 0.897600\n",
      "[3/5] - 3700/18200 loss: 14.648974, acc: 0.881600\n",
      "[3/5] - 4950/18200 loss: 16.497002, acc: 0.866400\n",
      "[3/5] - 6200/18200 loss: 12.911206, acc: 0.896800\n",
      "[3/5] - 7450/18200 loss: 13.392695, acc: 0.883200\n",
      "[3/5] - 8700/18200 loss: 14.600112, acc: 0.884000\n",
      "[3/5] - 9950/18200 loss: 14.677830, acc: 0.876800\n",
      "[3/5] - 11200/18200 loss: 14.951533, acc: 0.881600\n",
      "[3/5] - 12450/18200 loss: 14.264893, acc: 0.883200\n",
      "[3/5] - 13700/18200 loss: 15.596006, acc: 0.860000\n",
      "[3/5] - 14950/18200 loss: 14.611294, acc: 0.876000\n",
      "[3/5] - 16200/18200 loss: 14.577789, acc: 0.858400\n",
      "[3/5] - 17450/18200 loss: 13.879052, acc: 0.886400\n",
      "[4/5] - 1200/18200 loss: 12.582220, acc: 0.900000\n",
      "[4/5] - 2450/18200 loss: 14.406445, acc: 0.879200\n",
      "[4/5] - 3700/18200 loss: 12.482576, acc: 0.900000\n",
      "[4/5] - 4950/18200 loss: 14.281781, acc: 0.876800\n",
      "[4/5] - 6200/18200 loss: 13.105238, acc: 0.889600\n",
      "[4/5] - 7450/18200 loss: 14.479745, acc: 0.876800\n",
      "[4/5] - 8700/18200 loss: 13.603672, acc: 0.885600\n",
      "[4/5] - 9950/18200 loss: 15.379310, acc: 0.876000\n",
      "[4/5] - 11200/18200 loss: 14.872631, acc: 0.869600\n",
      "[4/5] - 12450/18200 loss: 14.082108, acc: 0.875200\n",
      "[4/5] - 13700/18200 loss: 14.033807, acc: 0.880800\n",
      "[4/5] - 14950/18200 loss: 12.340791, acc: 0.899200\n",
      "[4/5] - 16200/18200 loss: 16.070372, acc: 0.865600\n",
      "[4/5] - 17450/18200 loss: 14.515409, acc: 0.888000\n",
      "[5/5] - 1200/18200 loss: 15.441746, acc: 0.865600\n",
      "[5/5] - 2450/18200 loss: 12.841879, acc: 0.901600\n",
      "[5/5] - 3700/18200 loss: 14.268702, acc: 0.879200\n",
      "[5/5] - 4950/18200 loss: 13.397150, acc: 0.894400\n",
      "[5/5] - 6200/18200 loss: 13.150438, acc: 0.896800\n",
      "[5/5] - 7450/18200 loss: 15.330231, acc: 0.872800\n",
      "[5/5] - 8700/18200 loss: 14.580318, acc: 0.879200\n",
      "[5/5] - 9950/18200 loss: 13.611259, acc: 0.879200\n",
      "[5/5] - 11200/18200 loss: 13.786672, acc: 0.884000\n",
      "[5/5] - 12450/18200 loss: 14.258307, acc: 0.889600\n",
      "[5/5] - 13700/18200 loss: 13.477045, acc: 0.892000\n",
      "[5/5] - 14950/18200 loss: 13.941995, acc: 0.896000\n",
      "[5/5] - 16200/18200 loss: 13.959576, acc: 0.878400\n",
      "[5/5] - 17450/18200 loss: 14.281951, acc: 0.876800\n",
      "learning rate 0.003000\n",
      "[1/5] - 1200/18200 loss: 13.260148, acc: 0.891200\n",
      "[1/5] - 2450/18200 loss: 12.939848, acc: 0.902400\n",
      "[1/5] - 3700/18200 loss: 11.443960, acc: 0.909600\n",
      "[1/5] - 4950/18200 loss: 13.832787, acc: 0.889600\n",
      "[1/5] - 6200/18200 loss: 12.323689, acc: 0.910400\n",
      "[1/5] - 7450/18200 loss: 12.810762, acc: 0.897600\n",
      "[1/5] - 8700/18200 loss: 13.152925, acc: 0.896000\n",
      "[1/5] - 9950/18200 loss: 12.056437, acc: 0.905600\n",
      "[1/5] - 11200/18200 loss: 12.010227, acc: 0.903200\n",
      "[1/5] - 12450/18200 loss: 12.057480, acc: 0.896000\n",
      "[1/5] - 13700/18200 loss: 12.932469, acc: 0.900000\n",
      "[1/5] - 14950/18200 loss: 13.157351, acc: 0.882400\n",
      "[1/5] - 16200/18200 loss: 11.477433, acc: 0.906400\n",
      "[1/5] - 17450/18200 loss: 12.199664, acc: 0.894400\n",
      "[2/5] - 1200/18200 loss: 11.270846, acc: 0.908000\n",
      "[2/5] - 2450/18200 loss: 11.523166, acc: 0.911200\n",
      "[2/5] - 3700/18200 loss: 11.097497, acc: 0.912800\n",
      "[2/5] - 4950/18200 loss: 12.864562, acc: 0.896800\n",
      "[2/5] - 6200/18200 loss: 11.504171, acc: 0.906400\n",
      "[2/5] - 7450/18200 loss: 11.659454, acc: 0.907200\n",
      "[2/5] - 8700/18200 loss: 11.365647, acc: 0.907200\n",
      "[2/5] - 9950/18200 loss: 12.500543, acc: 0.892800\n",
      "[2/5] - 11200/18200 loss: 12.779331, acc: 0.893600\n",
      "[2/5] - 12450/18200 loss: 12.718990, acc: 0.896000\n",
      "[2/5] - 13700/18200 loss: 13.248280, acc: 0.883200\n",
      "[2/5] - 14950/18200 loss: 13.359872, acc: 0.886400\n",
      "[2/5] - 16200/18200 loss: 12.378541, acc: 0.908000\n",
      "[2/5] - 17450/18200 loss: 11.967155, acc: 0.908800\n",
      "[3/5] - 1200/18200 loss: 10.819842, acc: 0.917600\n",
      "[3/5] - 2450/18200 loss: 12.161768, acc: 0.908000\n",
      "[3/5] - 3700/18200 loss: 12.410132, acc: 0.898400\n",
      "[3/5] - 4950/18200 loss: 11.653370, acc: 0.909600\n",
      "[3/5] - 6200/18200 loss: 12.318726, acc: 0.896000\n",
      "[3/5] - 7450/18200 loss: 12.924134, acc: 0.897600\n",
      "[3/5] - 8700/18200 loss: 12.185326, acc: 0.896000\n",
      "[3/5] - 9950/18200 loss: 11.647869, acc: 0.908000\n",
      "[3/5] - 11200/18200 loss: 13.324371, acc: 0.895200\n",
      "[3/5] - 12450/18200 loss: 13.063693, acc: 0.903200\n",
      "[3/5] - 13700/18200 loss: 12.952697, acc: 0.894400\n",
      "[3/5] - 14950/18200 loss: 12.680496, acc: 0.896000\n",
      "[3/5] - 16200/18200 loss: 12.379676, acc: 0.904000\n",
      "[3/5] - 17450/18200 loss: 12.624176, acc: 0.896000\n",
      "[4/5] - 1200/18200 loss: 10.993727, acc: 0.912800\n",
      "[4/5] - 2450/18200 loss: 10.856041, acc: 0.923200\n",
      "[4/5] - 3700/18200 loss: 13.726730, acc: 0.887200\n",
      "[4/5] - 4950/18200 loss: 12.267771, acc: 0.893600\n",
      "[4/5] - 6200/18200 loss: 12.327302, acc: 0.901600\n",
      "[4/5] - 7450/18200 loss: 12.334345, acc: 0.889600\n",
      "[4/5] - 8700/18200 loss: 13.103156, acc: 0.904800\n",
      "[4/5] - 9950/18200 loss: 12.197981, acc: 0.902400\n",
      "[4/5] - 11200/18200 loss: 9.574630, acc: 0.925600\n",
      "[4/5] - 12450/18200 loss: 13.189870, acc: 0.900000\n",
      "[4/5] - 13700/18200 loss: 12.008596, acc: 0.905600\n",
      "[4/5] - 14950/18200 loss: 11.344760, acc: 0.919200\n",
      "[4/5] - 16200/18200 loss: 13.597447, acc: 0.886400\n",
      "[4/5] - 17450/18200 loss: 12.783505, acc: 0.894400\n",
      "[5/5] - 1200/18200 loss: 12.012310, acc: 0.898400\n",
      "[5/5] - 2450/18200 loss: 13.176320, acc: 0.902400\n",
      "[5/5] - 3700/18200 loss: 12.388089, acc: 0.899200\n",
      "[5/5] - 4950/18200 loss: 12.663735, acc: 0.895200\n",
      "[5/5] - 6200/18200 loss: 10.239922, acc: 0.919200\n",
      "[5/5] - 7450/18200 loss: 10.253700, acc: 0.918400\n",
      "[5/5] - 8700/18200 loss: 10.936975, acc: 0.907200\n",
      "[5/5] - 9950/18200 loss: 11.512175, acc: 0.905600\n",
      "[5/5] - 11200/18200 loss: 11.609246, acc: 0.908000\n",
      "[5/5] - 12450/18200 loss: 12.207656, acc: 0.905600\n",
      "[5/5] - 13700/18200 loss: 12.627856, acc: 0.898400\n",
      "[5/5] - 14950/18200 loss: 12.560873, acc: 0.895200\n",
      "[5/5] - 16200/18200 loss: 12.636120, acc: 0.894400\n",
      "[5/5] - 17450/18200 loss: 13.718385, acc: 0.888000\n",
      "learning rate 0.001000\n",
      "[1/5] - 1200/18200 loss: 11.522003, acc: 0.908000\n",
      "[1/5] - 2450/18200 loss: 12.409734, acc: 0.900000\n",
      "[1/5] - 3700/18200 loss: 11.593037, acc: 0.908000\n",
      "[1/5] - 4950/18200 loss: 10.875091, acc: 0.913600\n",
      "[1/5] - 6200/18200 loss: 10.965305, acc: 0.913600\n",
      "[1/5] - 7450/18200 loss: 10.668315, acc: 0.909600\n",
      "[1/5] - 8700/18200 loss: 11.204248, acc: 0.914400\n",
      "[1/5] - 9950/18200 loss: 10.013416, acc: 0.913600\n",
      "[1/5] - 11200/18200 loss: 10.012063, acc: 0.925600\n",
      "[1/5] - 12450/18200 loss: 10.758579, acc: 0.902400\n",
      "[1/5] - 13700/18200 loss: 10.452519, acc: 0.913600\n",
      "[1/5] - 14950/18200 loss: 12.187168, acc: 0.900800\n",
      "[1/5] - 16200/18200 loss: 12.207486, acc: 0.904000\n",
      "[1/5] - 17450/18200 loss: 10.305862, acc: 0.920800\n",
      "[2/5] - 1200/18200 loss: 10.971592, acc: 0.905600\n",
      "[2/5] - 2450/18200 loss: 11.067088, acc: 0.912800\n",
      "[2/5] - 3700/18200 loss: 10.252140, acc: 0.921600\n",
      "[2/5] - 4950/18200 loss: 11.237260, acc: 0.908000\n",
      "[2/5] - 6200/18200 loss: 11.005062, acc: 0.910400\n",
      "[2/5] - 7450/18200 loss: 9.915955, acc: 0.917600\n",
      "[2/5] - 8700/18200 loss: 10.796363, acc: 0.916000\n",
      "[2/5] - 9950/18200 loss: 10.081629, acc: 0.914400\n"
     ]
    },
    {
     "name": "stdout",
     "output_type": "stream",
     "text": [
      "[2/5] - 11200/18200 loss: 12.384076, acc: 0.903200\n",
      "[2/5] - 12450/18200 loss: 11.000812, acc: 0.912800\n",
      "[2/5] - 13700/18200 loss: 10.069328, acc: 0.925600\n",
      "[2/5] - 14950/18200 loss: 9.635882, acc: 0.924000\n",
      "[2/5] - 16200/18200 loss: 11.057190, acc: 0.908800\n",
      "[2/5] - 17450/18200 loss: 10.711087, acc: 0.912800\n",
      "[3/5] - 1200/18200 loss: 9.319447, acc: 0.920000\n",
      "[3/5] - 2450/18200 loss: 8.549238, acc: 0.934400\n",
      "[3/5] - 3700/18200 loss: 12.547142, acc: 0.895200\n",
      "[3/5] - 4950/18200 loss: 11.653435, acc: 0.912800\n",
      "[3/5] - 6200/18200 loss: 10.314143, acc: 0.913600\n",
      "[3/5] - 7450/18200 loss: 10.092259, acc: 0.916000\n",
      "[3/5] - 8700/18200 loss: 10.701959, acc: 0.914400\n",
      "[3/5] - 9950/18200 loss: 10.003985, acc: 0.906400\n",
      "[3/5] - 11200/18200 loss: 11.213393, acc: 0.908800\n",
      "[3/5] - 12450/18200 loss: 11.391655, acc: 0.909600\n",
      "[3/5] - 13700/18200 loss: 12.616872, acc: 0.901600\n",
      "[3/5] - 14950/18200 loss: 10.876661, acc: 0.912000\n",
      "[3/5] - 16200/18200 loss: 9.989320, acc: 0.924800\n",
      "[3/5] - 17450/18200 loss: 10.472764, acc: 0.913600\n",
      "[4/5] - 1200/18200 loss: 11.668749, acc: 0.892800\n",
      "[4/5] - 2450/18200 loss: 10.597048, acc: 0.912000\n",
      "[4/5] - 3700/18200 loss: 8.926831, acc: 0.929600\n",
      "[4/5] - 4950/18200 loss: 9.829015, acc: 0.927200\n",
      "[4/5] - 6200/18200 loss: 9.469141, acc: 0.924000\n",
      "[4/5] - 7450/18200 loss: 9.756037, acc: 0.925600\n",
      "[4/5] - 8700/18200 loss: 11.481295, acc: 0.908000\n",
      "[4/5] - 9950/18200 loss: 10.123067, acc: 0.916800\n",
      "[4/5] - 11200/18200 loss: 11.161068, acc: 0.912000\n",
      "[4/5] - 12450/18200 loss: 10.800535, acc: 0.914400\n",
      "[4/5] - 13700/18200 loss: 10.569421, acc: 0.916000\n",
      "[4/5] - 14950/18200 loss: 11.225715, acc: 0.909600\n",
      "[4/5] - 16200/18200 loss: 10.909965, acc: 0.909600\n",
      "[4/5] - 17450/18200 loss: 10.542490, acc: 0.915200\n",
      "[5/5] - 1200/18200 loss: 10.118245, acc: 0.928800\n",
      "[5/5] - 2450/18200 loss: 10.015616, acc: 0.920800\n",
      "[5/5] - 3700/18200 loss: 10.331091, acc: 0.924000\n",
      "[5/5] - 4950/18200 loss: 9.899385, acc: 0.918400\n",
      "[5/5] - 6200/18200 loss: 8.369071, acc: 0.936800\n",
      "[5/5] - 7450/18200 loss: 9.772426, acc: 0.915200\n",
      "[5/5] - 8700/18200 loss: 9.387408, acc: 0.922400\n",
      "[5/5] - 9950/18200 loss: 9.838012, acc: 0.923200\n",
      "[5/5] - 11200/18200 loss: 10.929018, acc: 0.915200\n",
      "[5/5] - 12450/18200 loss: 12.835130, acc: 0.895200\n",
      "[5/5] - 13700/18200 loss: 10.794703, acc: 0.918400\n",
      "[5/5] - 14950/18200 loss: 9.482619, acc: 0.927200\n",
      "[5/5] - 16200/18200 loss: 11.047692, acc: 0.908000\n",
      "[5/5] - 17450/18200 loss: 10.747021, acc: 0.907200\n",
      "learning rate 0.000300\n",
      "[1/5] - 1200/18200 loss: 11.017436, acc: 0.903200\n",
      "[1/5] - 2450/18200 loss: 9.544891, acc: 0.919200\n",
      "[1/5] - 3700/18200 loss: 10.986125, acc: 0.908000\n",
      "[1/5] - 4950/18200 loss: 8.899198, acc: 0.936000\n",
      "[1/5] - 6200/18200 loss: 11.688777, acc: 0.902400\n",
      "[1/5] - 7450/18200 loss: 10.403566, acc: 0.917600\n",
      "[1/5] - 8700/18200 loss: 10.146320, acc: 0.922400\n",
      "[1/5] - 9950/18200 loss: 8.542637, acc: 0.934400\n",
      "[1/5] - 11200/18200 loss: 9.953934, acc: 0.918400\n",
      "[1/5] - 12450/18200 loss: 10.679514, acc: 0.919200\n",
      "[1/5] - 13700/18200 loss: 8.868278, acc: 0.929600\n",
      "[1/5] - 14950/18200 loss: 8.975879, acc: 0.928800\n",
      "[1/5] - 16200/18200 loss: 9.982870, acc: 0.917600\n",
      "[1/5] - 17450/18200 loss: 9.863700, acc: 0.921600\n",
      "[2/5] - 1200/18200 loss: 9.740669, acc: 0.922400\n",
      "[2/5] - 2450/18200 loss: 10.172705, acc: 0.917600\n"
     ]
    },
    {
     "ename": "KeyboardInterrupt",
     "evalue": "",
     "output_type": "error",
     "traceback": [
      "\u001b[0;31m---------------------------------------------------------------------------\u001b[0m",
      "\u001b[0;31mKeyboardInterrupt\u001b[0m                         Traceback (most recent call last)",
      "\u001b[0;32m<ipython-input-14-96c73b5b5784>\u001b[0m in \u001b[0;36m<module>\u001b[0;34m()\u001b[0m\n\u001b[0;32m----> 1\u001b[0;31m \u001b[0mtrain_model\u001b[0m\u001b[0;34m(\u001b[0m\u001b[0mem\u001b[0m\u001b[0;34m,\u001b[0m \u001b[0mtrain_loader\u001b[0m\u001b[0;34m,\u001b[0m \u001b[0mloss_fn\u001b[0m\u001b[0;34m,\u001b[0m \u001b[0;34m**\u001b[0m\u001b[0mparams\u001b[0m\u001b[0;34m)\u001b[0m\u001b[0;34m\u001b[0m\u001b[0m\n\u001b[0m",
      "\u001b[0;32m~/myrepos/EmbeddingCatNet/EmbeddingModelV2.py\u001b[0m in \u001b[0;36mtrain_model\u001b[0;34m(model, train_loader, loss_fn, **kwargs)\u001b[0m\n\u001b[1;32m    240\u001b[0m \u001b[0;34m\u001b[0m\u001b[0m\n\u001b[1;32m    241\u001b[0m                 \u001b[0moptimizer\u001b[0m\u001b[0;34m.\u001b[0m\u001b[0mzero_grad\u001b[0m\u001b[0;34m(\u001b[0m\u001b[0;34m)\u001b[0m\u001b[0;34m\u001b[0m\u001b[0m\n\u001b[0;32m--> 242\u001b[0;31m                 \u001b[0mloss\u001b[0m\u001b[0;34m.\u001b[0m\u001b[0mbackward\u001b[0m\u001b[0;34m(\u001b[0m\u001b[0;34m)\u001b[0m\u001b[0;34m\u001b[0m\u001b[0m\n\u001b[0m\u001b[1;32m    243\u001b[0m                 \u001b[0moptimizer\u001b[0m\u001b[0;34m.\u001b[0m\u001b[0mstep\u001b[0m\u001b[0;34m(\u001b[0m\u001b[0;34m)\u001b[0m\u001b[0;34m\u001b[0m\u001b[0m\n",
      "\u001b[0;32m~/anaconda2/envs/py3/lib/python3.6/site-packages/torch/autograd/variable.py\u001b[0m in \u001b[0;36mbackward\u001b[0;34m(self, gradient, retain_graph, create_graph, retain_variables)\u001b[0m\n\u001b[1;32m    165\u001b[0m                 \u001b[0mVariable\u001b[0m\u001b[0;34m.\u001b[0m\u001b[0;34m\u001b[0m\u001b[0m\n\u001b[1;32m    166\u001b[0m         \"\"\"\n\u001b[0;32m--> 167\u001b[0;31m         \u001b[0mtorch\u001b[0m\u001b[0;34m.\u001b[0m\u001b[0mautograd\u001b[0m\u001b[0;34m.\u001b[0m\u001b[0mbackward\u001b[0m\u001b[0;34m(\u001b[0m\u001b[0mself\u001b[0m\u001b[0;34m,\u001b[0m \u001b[0mgradient\u001b[0m\u001b[0;34m,\u001b[0m \u001b[0mretain_graph\u001b[0m\u001b[0;34m,\u001b[0m \u001b[0mcreate_graph\u001b[0m\u001b[0;34m,\u001b[0m \u001b[0mretain_variables\u001b[0m\u001b[0;34m)\u001b[0m\u001b[0;34m\u001b[0m\u001b[0m\n\u001b[0m\u001b[1;32m    168\u001b[0m \u001b[0;34m\u001b[0m\u001b[0m\n\u001b[1;32m    169\u001b[0m     \u001b[0;32mdef\u001b[0m \u001b[0mregister_hook\u001b[0m\u001b[0;34m(\u001b[0m\u001b[0mself\u001b[0m\u001b[0;34m,\u001b[0m \u001b[0mhook\u001b[0m\u001b[0;34m)\u001b[0m\u001b[0;34m:\u001b[0m\u001b[0;34m\u001b[0m\u001b[0m\n",
      "\u001b[0;32m~/anaconda2/envs/py3/lib/python3.6/site-packages/torch/autograd/__init__.py\u001b[0m in \u001b[0;36mbackward\u001b[0;34m(variables, grad_variables, retain_graph, create_graph, retain_variables)\u001b[0m\n\u001b[1;32m     97\u001b[0m \u001b[0;34m\u001b[0m\u001b[0m\n\u001b[1;32m     98\u001b[0m     Variable._execution_engine.run_backward(\n\u001b[0;32m---> 99\u001b[0;31m         variables, grad_variables, retain_graph)\n\u001b[0m\u001b[1;32m    100\u001b[0m \u001b[0;34m\u001b[0m\u001b[0m\n\u001b[1;32m    101\u001b[0m \u001b[0;34m\u001b[0m\u001b[0m\n",
      "\u001b[0;31mKeyboardInterrupt\u001b[0m: "
     ]
    }
   ],
   "source": [
    "train_model(em, train_loader, loss_fn, **params)"
   ]
  },
  {
   "cell_type": "markdown",
   "metadata": {},
   "source": [
    "### Trying to Predict Level of Education"
   ]
  },
  {
   "cell_type": "code",
   "execution_count": 28,
   "metadata": {},
   "outputs": [
    {
     "name": "stdout",
     "output_type": "stream",
     "text": [
      "loading training data ...\n",
      "loading test data ...\n",
      "complete ...\n",
      "formatting ...\n",
      "imputing missing values ...\n",
      "(18255, 1121) (18255,) (27285, 1121) (27285,)\n"
     ]
    }
   ],
   "source": [
    "X, y, X_test, y_test = load_wids_xy_data(DATA_DIR, target='DG4')"
   ]
  },
  {
   "cell_type": "code",
   "execution_count": 29,
   "metadata": {},
   "outputs": [
    {
     "data": {
      "text/plain": [
       "((45540, 1121), (45540,))"
      ]
     },
     "execution_count": 29,
     "metadata": {},
     "output_type": "execute_result"
    }
   ],
   "source": [
    "X_join = pd.concat([X, X_test])\n",
    "y_join = np.concatenate([y, y_test])\n",
    "X_join.shape, y_join.shape"
   ]
  },
  {
   "cell_type": "code",
   "execution_count": 30,
   "metadata": {},
   "outputs": [
    {
     "name": "stdout",
     "output_type": "stream",
     "text": [
      "converting to category ...\n",
      "0\n",
      "100\n",
      "200\n",
      "300\n",
      "400\n",
      "500\n",
      "600\n",
      "700\n",
      "800\n",
      "900\n",
      "1000\n",
      "1100\n",
      "calculating cardinality\n",
      "remapping columns to int\n",
      "complete\n"
     ]
    }
   ],
   "source": [
    "cat_cols = X.columns\n",
    "emb_cols = cat_cols \n",
    "X_mapped, mappers, emb_szs, idx2col, col2idx = get_mappers(X, cat_cols, emb_cols)"
   ]
  },
  {
   "cell_type": "code",
   "execution_count": 24,
   "metadata": {
    "collapsed": true
   },
   "outputs": [],
   "source": [
    "bz = 50\n",
    "X_tensor = torch.from_numpy(X_mapped.head(45000).as_matrix())\n",
    "y_tensor = torch.from_numpy(y[:45000]).view(-1,1)\n",
    "\n",
    "train = data_utils.TensorDataset(X_tensor, y_tensor)\n",
    "train_loader = data_utils.DataLoader(train, batch_size=bz, shuffle=True)\n",
    "loss_fn = torch.nn.NLLLoss(size_average=False)\n",
    "params = {\n",
    "    'weight_decay': 0.01,\n",
    "    'n_epoches': 5,\n",
    "    'learning_rate': 0.01,\n",
    "    'ml_type':'multi'\n",
    "}\n",
    "cat_onehot_cols = X_mapped.columns"
   ]
  },
  {
   "cell_type": "code",
   "execution_count": 26,
   "metadata": {
    "scrolled": true
   },
   "outputs": [
    {
     "name": "stdout",
     "output_type": "stream",
     "text": [
      "number of emb feats: 1121\n",
      "total embedding parameters 3494\n"
     ]
    }
   ],
   "source": [
    "em = EmbeddingModel(emb_szs=emb_szs,\n",
    "                    cat_cols=cat_cols,\n",
    "                    idx2col=idx2col, \n",
    "                    col2idx=col2idx,\n",
    "                    layer_sizes=[500,100], \n",
    "                    output_dim=1)"
   ]
  },
  {
   "cell_type": "code",
   "execution_count": 27,
   "metadata": {},
   "outputs": [
    {
     "name": "stdout",
     "output_type": "stream",
     "text": [
      "learning rate 0.010000\n"
     ]
    },
    {
     "ename": "AttributeError",
     "evalue": "'tuple' object has no attribute 'float'",
     "output_type": "error",
     "traceback": [
      "\u001b[0;31m---------------------------------------------------------------------------\u001b[0m",
      "\u001b[0;31mAttributeError\u001b[0m                            Traceback (most recent call last)",
      "\u001b[0;32m<ipython-input-27-96c73b5b5784>\u001b[0m in \u001b[0;36m<module>\u001b[0;34m()\u001b[0m\n\u001b[0;32m----> 1\u001b[0;31m \u001b[0mtrain_model\u001b[0m\u001b[0;34m(\u001b[0m\u001b[0mem\u001b[0m\u001b[0;34m,\u001b[0m \u001b[0mtrain_loader\u001b[0m\u001b[0;34m,\u001b[0m \u001b[0mloss_fn\u001b[0m\u001b[0;34m,\u001b[0m \u001b[0;34m**\u001b[0m\u001b[0mparams\u001b[0m\u001b[0;34m)\u001b[0m\u001b[0;34m\u001b[0m\u001b[0m\n\u001b[0m",
      "\u001b[0;32m~/myrepos/EmbeddingCatNet/EmbeddingModelV2.py\u001b[0m in \u001b[0;36mtrain_model\u001b[0;34m(model, train_loader, loss_fn, **kwargs)\u001b[0m\n\u001b[1;32m    225\u001b[0m                     \u001b[0my_pred_hard\u001b[0m \u001b[0;34m=\u001b[0m \u001b[0mtorch\u001b[0m\u001b[0;34m.\u001b[0m\u001b[0mmax\u001b[0m\u001b[0;34m(\u001b[0m\u001b[0my_pred\u001b[0m\u001b[0;34m,\u001b[0m \u001b[0;36m1\u001b[0m\u001b[0;34m)\u001b[0m\u001b[0;34m\u001b[0m\u001b[0m\n\u001b[1;32m    226\u001b[0m \u001b[0;34m\u001b[0m\u001b[0m\n\u001b[0;32m--> 227\u001b[0;31m                 \u001b[0mcorrect\u001b[0m \u001b[0;34m=\u001b[0m \u001b[0;34m(\u001b[0m\u001b[0mlabel_var\u001b[0m\u001b[0;34m.\u001b[0m\u001b[0mview\u001b[0m\u001b[0;34m(\u001b[0m\u001b[0;34m-\u001b[0m\u001b[0;36m1\u001b[0m\u001b[0;34m,\u001b[0m \u001b[0;36m1\u001b[0m\u001b[0;34m)\u001b[0m\u001b[0;34m.\u001b[0m\u001b[0meq\u001b[0m\u001b[0;34m(\u001b[0m\u001b[0my_pred_hard\u001b[0m\u001b[0;34m.\u001b[0m\u001b[0mfloat\u001b[0m\u001b[0;34m(\u001b[0m\u001b[0;34m)\u001b[0m\u001b[0;34m)\u001b[0m\u001b[0;34m)\u001b[0m\u001b[0;34m.\u001b[0m\u001b[0msum\u001b[0m\u001b[0;34m(\u001b[0m\u001b[0;34m)\u001b[0m\u001b[0;34m\u001b[0m\u001b[0m\n\u001b[0m\u001b[1;32m    228\u001b[0m                 \u001b[0mrunning_correct\u001b[0m \u001b[0;34m+=\u001b[0m \u001b[0mcorrect\u001b[0m\u001b[0;34m.\u001b[0m\u001b[0mfloat\u001b[0m\u001b[0;34m(\u001b[0m\u001b[0;34m)\u001b[0m\u001b[0;34m.\u001b[0m\u001b[0mdata\u001b[0m\u001b[0;34m\u001b[0m\u001b[0m\n\u001b[1;32m    229\u001b[0m \u001b[0;34m\u001b[0m\u001b[0m\n",
      "\u001b[0;31mAttributeError\u001b[0m: 'tuple' object has no attribute 'float'"
     ]
    }
   ],
   "source": [
    "train_model(em, train_loader, loss_fn, **params)"
   ]
  },
  {
   "cell_type": "code",
   "execution_count": null,
   "metadata": {
    "collapsed": true
   },
   "outputs": [],
   "source": []
  }
 ],
 "metadata": {
  "kernelspec": {
   "display_name": "Python 3",
   "language": "python",
   "name": "python3"
  },
  "language_info": {
   "codemirror_mode": {
    "name": "ipython",
    "version": 3
   },
   "file_extension": ".py",
   "mimetype": "text/x-python",
   "name": "python",
   "nbconvert_exporter": "python",
   "pygments_lexer": "ipython3",
   "version": "3.6.3"
  }
 },
 "nbformat": 4,
 "nbformat_minor": 2
}
